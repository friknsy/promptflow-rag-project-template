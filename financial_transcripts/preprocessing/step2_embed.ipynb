{
 "cells": [
  {
   "cell_type": "markdown",
   "metadata": {},
   "source": [
    "# Chunk Embedding using Azure OpenAI   "
   ]
  },
  {
   "cell_type": "markdown",
   "metadata": {},
   "source": [
    "### Load environment variables and keys "
   ]
  },
  {
   "cell_type": "code",
   "execution_count": null,
   "metadata": {},
   "outputs": [],
   "source": [
    "from dotenv import dotenv_values\n",
    "from azure.keyvault.secrets import SecretClient\n",
    "from azure.identity import DefaultAzureCredential\n",
    "import openai\n",
    "import pandas as pd\n",
    "import numpy as np\n",
    "import time\n",
    "import requests\n",
    "\n",
    "# specify the name of the .env file name \n",
    "env_name = \"../../.env\" # change to your own .env file name\n",
    "config = dotenv_values(env_name)\n",
    "\n",
    "if config['KEYS_FROM'] == \"KEYVAULT\":\n",
    "    print('keyvault was selected.')\n",
    "    keyVaultName = config[\"KEY_VAULT_NAME\"]\n",
    "    KVUri = f\"https://{keyVaultName}.vault.azure.net\"\n",
    "\n",
    "    credential = DefaultAzureCredential()\n",
    "    client = SecretClient(vault_url=KVUri, credential=credential)\n",
    "\n",
    "    openai.api_type = client.get_secret(\"OPENAI-API-TYPE\").value\n",
    "    openai.api_key = client.get_secret(\"OPENAI-API-KEY\").value\n",
    "    openai.api_base = client.get_secret(\"OPENAI-API-BASE\").value\n",
    "    openai.api_version = client.get_secret(\"OPENAI-API-VERSION\").value\n",
    "    deployment_embedding = client.get_secret(\"OPENAI-DEPLOYMENT-EMBEDDING\").value\n",
    "else:\n",
    "    openai.api_type = config[\"OPENAI_API_TYPE\"] \n",
    "    openai.api_key = config[\"OPENAI_API_KEY\"]\n",
    "    openai.api_base = config[\"OPENAI_API_BASE\"] \n",
    "    openai.api_version = config[\"OPENAI_API_VERSION\"] \n",
    "    deployment_embedding = config[\"OPENAI_DEPLOYMENT_EMBEDDING\"]\n",
    "\n"
   ]
  },
  {
   "cell_type": "markdown",
   "metadata": {},
   "source": [
    "#### Load the chunks and create embedding\n",
    "In this section, we will load the data into a pandas dataframe, use select columns, and create vector embedding using azure open ai. "
   ]
  },
  {
   "cell_type": "code",
   "execution_count": null,
   "metadata": {},
   "outputs": [],
   "source": [
    "def createEmbeddings(text, endpoint, api_key, api_version, embedding_model_deployment):\n",
    "    request_url = f\"{endpoint}/openai/deployments/{embedding_model_deployment}/embeddings?api-version={api_version}\"\n",
    "    headers = {\n",
    "        \"Content-Type\": \"application/json\",\n",
    "        \"api-key\": api_key\n",
    "    }\n",
    "    request_payload = {\n",
    "        'input': text\n",
    "    }\n",
    "    embedding_response = requests.post(request_url, json=request_payload, headers=headers, timeout=None)\n",
    "    if embedding_response.status_code == 200:\n",
    "        data_values = embedding_response.json()[\"data\"]\n",
    "        embeddings_vectors = [data_value[\"embedding\"] for data_value in data_values]\n",
    "        return embeddings_vectors\n",
    "    else:\n",
    "        raise Exception(f\"failed to get embedding: {embedding_response.json()}\")\n",
    "\n",
    "\n",
    "# Read data into a DataFrame\n",
    "df = pd.read_csv('AnalyzedPDF/Chunks.csv')\n",
    "\n",
    "# Create a new column called 'embedding' in the DataFrame\n",
    "df['Embedding'] = np.empty((len(df),), dtype=object)\n",
    "\n",
    "# Iterate over each row in the DataFrame and assign the concatenation and embeddings\n",
    "for index, row in df.iterrows():\n",
    "    text = row['Chunk']\n",
    "    \n",
    "    # Concatenate the desired columns\n",
    "    concat_text = f\"{text}\"\n",
    "    \n",
    "    # Create embeddings using the provided function\n",
    "    embeddings = createEmbeddings(concat_text,\n",
    "        openai.api_base,\n",
    "        openai.api_key,\n",
    "        openai.api_version,\n",
    "        deployment_embedding\n",
    "    )[0]\n",
    "    #print(embeddings)\n",
    "    \n",
    "    # Assign the embeddings to the 'embedding' column\n",
    "    df.at[index, 'Embedding'] = embeddings\n",
    "    time.sleep(0.1)\n"
   ]
  },
  {
   "cell_type": "markdown",
   "metadata": {},
   "source": [
    "We will rename the column names and add a new column as primary index."
   ]
  },
  {
   "cell_type": "code",
   "execution_count": null,
   "metadata": {},
   "outputs": [],
   "source": [
    "# Print the DataFrame with 'Id' as the first column after index\n",
    "df.head(1000)"
   ]
  },
  {
   "cell_type": "markdown",
   "metadata": {},
   "source": [
    "Use the following code to save the embeddings and processed data for future use or skip the previous part of the code and and load the processed data to save into the db. "
   ]
  },
  {
   "cell_type": "code",
   "execution_count": null,
   "metadata": {},
   "outputs": [],
   "source": [
    "# save CSV for future use. \n",
    "df.to_csv('AnalyzedPDF/ChunksEmbedding.csv', index=False)"
   ]
  },
  {
   "cell_type": "code",
   "execution_count": null,
   "metadata": {},
   "outputs": [],
   "source": []
  }
 ],
 "metadata": {
  "kernelspec": {
   "display_name": "Python 3",
   "language": "python",
   "name": "python3"
  },
  "language_info": {
   "codemirror_mode": {
    "name": "ipython",
    "version": 3
   },
   "file_extension": ".py",
   "mimetype": "text/x-python",
   "name": "python",
   "nbconvert_exporter": "python",
   "pygments_lexer": "ipython3",
   "version": "3.9.18"
  }
 },
 "nbformat": 4,
 "nbformat_minor": 2
}
