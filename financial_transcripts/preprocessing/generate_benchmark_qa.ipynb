{
 "cells": [
  {
   "cell_type": "markdown",
   "metadata": {},
   "source": [
    "## Benchmark Question-Answer Generation"
   ]
  },
  {
   "cell_type": "markdown",
   "metadata": {},
   "source": [
    "This notebook demonstrates how we can generate a set of Questions and Answers based on chunks from a database. Documents chunked before insertion to a database and saved to `.csv` for MSFT transcripts sample. It is beneficial to generate questions and answers at this stage, as doing a search from a database has an added cost. Randomly picking chunks for specified filter parameters ensures diversity of the questions and answers. "
   ]
  },
  {
   "cell_type": "markdown",
   "metadata": {},
   "source": [
    "### SET UP AND CONFIGURATION"
   ]
  },
  {
   "cell_type": "markdown",
   "metadata": {},
   "source": [
    "Load Environment File"
   ]
  },
  {
   "cell_type": "code",
   "execution_count": 1,
   "metadata": {},
   "outputs": [],
   "source": [
    "from dotenv import dotenv_values\n",
    "from azure.keyvault.secrets import SecretClient\n",
    "from azure.identity import DefaultAzureCredential\n",
    "import openai\n",
    "\n",
    "# specify the name of the .env file name \n",
    "env_name = \"../../.env\" # change to your own .env file name\n",
    "config = dotenv_values(env_name)"
   ]
  },
  {
   "cell_type": "code",
   "execution_count": 2,
   "metadata": {},
   "outputs": [
    {
     "name": "stdout",
     "output_type": "stream",
     "text": [
      "keyvault was selected.\n"
     ]
    }
   ],
   "source": [
    "\"\"\"\n",
    "Remember to remove the key from your code when you're done, and never post it publicly. For production, use\n",
    "secure methods to store and access your credentials. For more information, see \n",
    "https://docs.microsoft.com/en-us/azure/cognitive-services/cognitive-services-security?tabs=command-line%2Ccsharp#environment-variables-and-application-configuration\n",
    "\"\"\"\n",
    "\n",
    "if config['KEYS_FROM'] == \"KEYVAULT\":\n",
    "    print('keyvault was selected.')\n",
    "    keyVaultName = config[\"KEY_VAULT_NAME\"]\n",
    "    KVUri = f\"https://{keyVaultName}.vault.azure.net\"\n",
    "\n",
    "    credential = DefaultAzureCredential()\n",
    "    client = SecretClient(vault_url=KVUri, credential=credential)\n",
    "    openai.api_type = client.get_secret(\"OPENAI-API-TYPE\").value\n",
    "    openai.api_key = client.get_secret(\"OPENAI-API-KEY\").value\n",
    "    openai.api_base = client.get_secret(\"OPENAI-API-BASE\").value\n",
    "    openai.api_version = client.get_secret(\"OPENAI-API-VERSION\").value\n",
    "    \n",
    "else:\n",
    "    print('.env was selected.')\n",
    "    openai.api_type = config[\"OPENAI_API_TYPE\"] \n",
    "    openai.api_key = config[\"OPENAI_API_KEY\"]\n",
    "    openai.api_base = config[\"OPENAI_API_BASE\"] \n",
    "    openai.api_version = config[\"OPENAI_API_VERSION\"] "
   ]
  },
  {
   "cell_type": "markdown",
   "metadata": {},
   "source": [
    "Read Chunks from csv (see step2 notebook from preprocessing subdirectory)"
   ]
  },
  {
   "cell_type": "code",
   "execution_count": 3,
   "metadata": {},
   "outputs": [],
   "source": [
    "import numpy as np\n",
    "import pandas as pd\n",
    "df = pd.read_csv('AnalyzedPDF/ChunksEmbedding.csv')"
   ]
  },
  {
   "cell_type": "code",
   "execution_count": 4,
   "metadata": {},
   "outputs": [
    {
     "data": {
      "text/html": [
       "<div>\n",
       "<style scoped>\n",
       "    .dataframe tbody tr th:only-of-type {\n",
       "        vertical-align: middle;\n",
       "    }\n",
       "\n",
       "    .dataframe tbody tr th {\n",
       "        vertical-align: top;\n",
       "    }\n",
       "\n",
       "    .dataframe thead th {\n",
       "        text-align: right;\n",
       "    }\n",
       "</style>\n",
       "<table border=\"1\" class=\"dataframe\">\n",
       "  <thead>\n",
       "    <tr style=\"text-align: right;\">\n",
       "      <th></th>\n",
       "      <th>Id</th>\n",
       "      <th>Ticker</th>\n",
       "      <th>Year</th>\n",
       "      <th>Quarter</th>\n",
       "      <th>Chunk</th>\n",
       "      <th>PageNumber</th>\n",
       "      <th>LineNumber</th>\n",
       "      <th>Embedding</th>\n",
       "    </tr>\n",
       "  </thead>\n",
       "  <tbody>\n",
       "    <tr>\n",
       "      <th>113</th>\n",
       "      <td>114</td>\n",
       "      <td>MSFT</td>\n",
       "      <td>23</td>\n",
       "      <td>2</td>\n",
       "      <td>Microsoft FY23 Second Quarter Earnings Confere...</td>\n",
       "      <td>1</td>\n",
       "      <td>1</td>\n",
       "      <td>[-0.022043932, -0.023832329, -0.015447599, -0....</td>\n",
       "    </tr>\n",
       "    <tr>\n",
       "      <th>114</th>\n",
       "      <td>115</td>\n",
       "      <td>MSFT</td>\n",
       "      <td>23</td>\n",
       "      <td>2</td>\n",
       "      <td>On the Microsoft Investor Relations website, y...</td>\n",
       "      <td>1</td>\n",
       "      <td>9</td>\n",
       "      <td>[-0.023697682, -0.005627374, -0.0051322975, -0...</td>\n",
       "    </tr>\n",
       "    <tr>\n",
       "      <th>115</th>\n",
       "      <td>116</td>\n",
       "      <td>MSFT</td>\n",
       "      <td>23</td>\n",
       "      <td>2</td>\n",
       "      <td>GAAP. They are included as additional clarifyi...</td>\n",
       "      <td>1</td>\n",
       "      <td>17</td>\n",
       "      <td>[-0.012550131, -0.0020706053, 0.007283737, -0....</td>\n",
       "    </tr>\n",
       "    <tr>\n",
       "      <th>116</th>\n",
       "      <td>117</td>\n",
       "      <td>MSFT</td>\n",
       "      <td>23</td>\n",
       "      <td>2</td>\n",
       "      <td>same in constant currency, we will refer to th...</td>\n",
       "      <td>1</td>\n",
       "      <td>25</td>\n",
       "      <td>[-0.01768585, -0.02943631, -0.00054391, -0.015...</td>\n",
       "    </tr>\n",
       "    <tr>\n",
       "      <th>117</th>\n",
       "      <td>118</td>\n",
       "      <td>MSFT</td>\n",
       "      <td>23</td>\n",
       "      <td>2</td>\n",
       "      <td>predictions, projections, or other statements ...</td>\n",
       "      <td>2</td>\n",
       "      <td>6</td>\n",
       "      <td>[-0.009156934, -0.019673413, -0.0082705645, -0...</td>\n",
       "    </tr>\n",
       "    <tr>\n",
       "      <th>...</th>\n",
       "      <td>...</td>\n",
       "      <td>...</td>\n",
       "      <td>...</td>\n",
       "      <td>...</td>\n",
       "      <td>...</td>\n",
       "      <td>...</td>\n",
       "      <td>...</td>\n",
       "      <td>...</td>\n",
       "    </tr>\n",
       "    <tr>\n",
       "      <th>216</th>\n",
       "      <td>217</td>\n",
       "      <td>MSFT</td>\n",
       "      <td>23</td>\n",
       "      <td>2</td>\n",
       "      <td>BRETT IVERSEN: Thanks, Brad. Joe, we have time...</td>\n",
       "      <td>31</td>\n",
       "      <td>13</td>\n",
       "      <td>[0.0011864604, -0.04014092, 0.009777045, -0.01...</td>\n",
       "    </tr>\n",
       "    <tr>\n",
       "      <th>217</th>\n",
       "      <td>218</td>\n",
       "      <td>MSFT</td>\n",
       "      <td>23</td>\n",
       "      <td>2</td>\n",
       "      <td>the coming quarters? Thank you. SATYA NADELLA:...</td>\n",
       "      <td>31</td>\n",
       "      <td>21</td>\n",
       "      <td>[0.009347212, -0.01008223, 0.015255094, -0.009...</td>\n",
       "    </tr>\n",
       "    <tr>\n",
       "      <th>218</th>\n",
       "      <td>219</td>\n",
       "      <td>MSFT</td>\n",
       "      <td>23</td>\n",
       "      <td>2</td>\n",
       "      <td>going to be an Al app. That's, I think, the be...</td>\n",
       "      <td>32</td>\n",
       "      <td>1</td>\n",
       "      <td>[0.005495851, -0.003575635, 0.013053961, 0.000...</td>\n",
       "    </tr>\n",
       "    <tr>\n",
       "      <th>219</th>\n",
       "      <td>220</td>\n",
       "      <td>MSFT</td>\n",
       "      <td>23</td>\n",
       "      <td>2</td>\n",
       "      <td>Sometimes, you will have ISVs who are differen...</td>\n",
       "      <td>32</td>\n",
       "      <td>9</td>\n",
       "      <td>[-0.004339527, -0.028531296, 0.017532898, -0.0...</td>\n",
       "    </tr>\n",
       "    <tr>\n",
       "      <th>220</th>\n",
       "      <td>221</td>\n",
       "      <td>MSFT</td>\n",
       "      <td>23</td>\n",
       "      <td>2</td>\n",
       "      <td>(Operator Direction.) END OF AUDIO *Complete a...</td>\n",
       "      <td>32</td>\n",
       "      <td>17</td>\n",
       "      <td>[-0.017824065, -0.026084332, 0.0069052815, -0....</td>\n",
       "    </tr>\n",
       "  </tbody>\n",
       "</table>\n",
       "<p>108 rows × 8 columns</p>\n",
       "</div>"
      ],
      "text/plain": [
       "      Id Ticker  Year  Quarter  \\\n",
       "113  114   MSFT    23        2   \n",
       "114  115   MSFT    23        2   \n",
       "115  116   MSFT    23        2   \n",
       "116  117   MSFT    23        2   \n",
       "117  118   MSFT    23        2   \n",
       "..   ...    ...   ...      ...   \n",
       "216  217   MSFT    23        2   \n",
       "217  218   MSFT    23        2   \n",
       "218  219   MSFT    23        2   \n",
       "219  220   MSFT    23        2   \n",
       "220  221   MSFT    23        2   \n",
       "\n",
       "                                                 Chunk  PageNumber  \\\n",
       "113  Microsoft FY23 Second Quarter Earnings Confere...           1   \n",
       "114  On the Microsoft Investor Relations website, y...           1   \n",
       "115  GAAP. They are included as additional clarifyi...           1   \n",
       "116  same in constant currency, we will refer to th...           1   \n",
       "117  predictions, projections, or other statements ...           2   \n",
       "..                                                 ...         ...   \n",
       "216  BRETT IVERSEN: Thanks, Brad. Joe, we have time...          31   \n",
       "217  the coming quarters? Thank you. SATYA NADELLA:...          31   \n",
       "218  going to be an Al app. That's, I think, the be...          32   \n",
       "219  Sometimes, you will have ISVs who are differen...          32   \n",
       "220  (Operator Direction.) END OF AUDIO *Complete a...          32   \n",
       "\n",
       "     LineNumber                                          Embedding  \n",
       "113           1  [-0.022043932, -0.023832329, -0.015447599, -0....  \n",
       "114           9  [-0.023697682, -0.005627374, -0.0051322975, -0...  \n",
       "115          17  [-0.012550131, -0.0020706053, 0.007283737, -0....  \n",
       "116          25  [-0.01768585, -0.02943631, -0.00054391, -0.015...  \n",
       "117           6  [-0.009156934, -0.019673413, -0.0082705645, -0...  \n",
       "..          ...                                                ...  \n",
       "216          13  [0.0011864604, -0.04014092, 0.009777045, -0.01...  \n",
       "217          21  [0.009347212, -0.01008223, 0.015255094, -0.009...  \n",
       "218           1  [0.005495851, -0.003575635, 0.013053961, 0.000...  \n",
       "219           9  [-0.004339527, -0.028531296, 0.017532898, -0.0...  \n",
       "220          17  [-0.017824065, -0.026084332, 0.0069052815, -0....  \n",
       "\n",
       "[108 rows x 8 columns]"
      ]
     },
     "execution_count": 4,
     "metadata": {},
     "output_type": "execute_result"
    }
   ],
   "source": [
    "df[df['Quarter']==2]"
   ]
  },
  {
   "cell_type": "code",
   "execution_count": 5,
   "metadata": {},
   "outputs": [
    {
     "data": {
      "text/plain": [
       "\"Cosmos DB now supports PostgreSQL, making Azure the first cloud provider to offer a database service that supports both relational and NoSQL workloads. And, in Al, we are turning the world's most advanced models into platforms for customers. Earlier this month, we brought the power of Dall-E to Azure OpenAI service, helping customers like Mattel apply the breakthrough image generation model to commercial use cases for the first time. And Azure Machine Learning provides industry leading MLOps, helping organizations like 3M deploy, manage, and govern models. \""
      ]
     },
     "execution_count": 5,
     "metadata": {},
     "output_type": "execute_result"
    }
   ],
   "source": [
    "df['Chunk'].iloc[11]"
   ]
  },
  {
   "cell_type": "markdown",
   "metadata": {},
   "source": [
    "#### Prompt Template\n",
    "##### Write a Prompt Template. The prompt template should include all filter keys, so they can be referenced and input."
   ]
  },
  {
   "cell_type": "code",
   "execution_count": 6,
   "metadata": {},
   "outputs": [],
   "source": [
    "template = \"\"\"\n",
    "        You are given two chunks of text, a ticker e.g. MSFT, Quarter, Year, as input. You will generate 10 relevant questions and answers pairs based on the input.\n",
    "        The question should be formed based on information in both the chunks of text.\n",
    "        The answers should be available in the two chunks of text. Do not generate answers on your own.  If answer is not available in the text, just write N/A.\n",
    "               \n",
    "        An example output for this example is: \n",
    "\n",
    "        Question: For {ticker} FY{year} Q{quarter}, what is the <question goes here>?\n",
    "        Answer: example answer paraphrased from the relevant information in the given text goes here \n",
    "\n",
    "        Based on ticker, quarter, year, the question can be phrased in different ways e.g. MSFT FY23 Q1, MSFT FY2023 1st quarter, e.t.c.\n",
    "        In case the text question is not relevant, please skip the question and answer pair.\n",
    "        input_text1: \n",
    "        {chunk_text1}\n",
    "        input_text2:\n",
    "        {chunk_text2}\n",
    "        ticker: {ticker}\n",
    "        quarter: {quarter}\n",
    "        year: {year}\n",
    "        \"\"\""
   ]
  },
  {
   "cell_type": "markdown",
   "metadata": {},
   "source": [
    "#### Randomly pick filter parameters:\n",
    "\n",
    "Add Filter Parameters to randomly pick them for extracting context (chunks). This will help diversify generating questions and answers. \n",
    "In the MSFT Financial Transcripts use-case, the Ticker name is MSFT, but you can easily add other ticker labels for a larger Financial dataset. `Year`,`Quarter`, and `Id` are the key parameters used in this use-case. In this notebook, we are using two random chunks (chunk ids) from specified filter keys (year, quarter).\n",
    "\n",
    "###### TODO: Add Tools (an updated version of function calls) once it is available for working with newer models. Function Calls are currently deprecated for gpt models with versions beyond 07-01-2023."
   ]
  },
  {
   "cell_type": "code",
   "execution_count": 7,
   "metadata": {},
   "outputs": [],
   "source": [
    "Ticker = np.random.choice(df['Ticker'].unique())\n",
    "Year = np.random.choice(df[df['Ticker']==Ticker]['Year'].unique())\n",
    "Quarter = np.random.choice(df[(df['Ticker']==Ticker) & (df['Year']==Year)]['Quarter'].unique())\n",
    "# Id = np.random.choice(df[(df['Quarter']==Quarter) & (df['Year']==Year)]['Id'].unique())\n",
    "# Id2 = np.random.choice(df[(df['Quarter']==Quarter) & (df['Year']==Year) & (df['Id']!=Id)]['Id'].unique())"
   ]
  },
  {
   "cell_type": "code",
   "execution_count": 8,
   "metadata": {},
   "outputs": [],
   "source": [
    "pagenum1 = np.random.choice(df[(df['Ticker']==Ticker) & (df['Year']==Year) & (df['Quarter']==Quarter)]['PageNumber'].unique())\n",
    "pagenum2 = np.random.choice(df[(df['Ticker']==Ticker) & (df['Year']==Year) & (df['Quarter']==Quarter)]['PageNumber'].unique())"
   ]
  },
  {
   "cell_type": "code",
   "execution_count": 9,
   "metadata": {},
   "outputs": [],
   "source": [
    "chunk1 = df[(df['Ticker']==Ticker) & (df['Year']==Year) & (df['Quarter']==Quarter) & (df['PageNumber']==pagenum1)]['Chunk'].str.cat(sep=' ')\n",
    "chunk2 = df[(df['Ticker']==Ticker) & (df['Year']==Year) & (df['Quarter']==Quarter) & (df['PageNumber']==pagenum2)]['Chunk'].str.cat(sep=' ')"
   ]
  },
  {
   "cell_type": "code",
   "execution_count": 10,
   "metadata": {},
   "outputs": [
    {
     "data": {
      "text/plain": [
       "1929"
      ]
     },
     "execution_count": 10,
     "metadata": {},
     "output_type": "execute_result"
    }
   ],
   "source": [
    "len(chunk1)"
   ]
  },
  {
   "cell_type": "code",
   "execution_count": 11,
   "metadata": {},
   "outputs": [
    {
     "data": {
      "text/plain": [
       "\"one question. Joe, can you please repeat your instructions? (Operator Direction.) KEITH WEISS, Morgan Stanley: Excellent. Thank you guys for taking the question and very nice end to a great fiscal year. Satya, you started out your comments talking about how every customer conversation has the customer asking you about utilizing generative AI technology and how fast they could utilize that generative AI technology. What's the answer? What do you tell them in terms of the pace with which that could get into the marketplace and your customers could start using it?  that could get into the marketplace and your customers could start using it? And then for Amy, how should investors think about just the fundamental gross margins behind these generative AI technologies? We understand there's going to be a lot of CapEx to ramp up underneath these, but what should we expect in terms of what the ultimate gross margin looks like underneath all these new generative AI solutions? Thank you. SATYA NADELLA: Thank you, Keith, for the question. The fundamental guidance and conversation that we have with customers is twofold. One is the easiest path to value or generative AI is to adopt certain solutions. For  guidance and conversation that we have with customers is twofold. One is the easiest path to value or generative AI is to adopt certain solutions. For example, GitHub Copilot, in some sense, it's sort of the no brainer to add productivity leverage for all of the software developers in any organization. Whether you're a bank, you're a retailer or you're a software company, it applies to everyone. That's probably one of the things that we are seeing very good even productivity data and great adoption. And then obviously the excitement that there is already around the M365 Copilot. First thing we sort of talked about is how we ourselves are deploying all these copilots across, whether it's Sales Copilot or M365 \""
      ]
     },
     "execution_count": 11,
     "metadata": {},
     "output_type": "execute_result"
    }
   ],
   "source": [
    "chunk1"
   ]
  },
  {
   "cell_type": "code",
   "execution_count": 12,
   "metadata": {},
   "outputs": [
    {
     "name": "stdout",
     "output_type": "stream",
     "text": [
      "MSFT 23 4 29 12\n"
     ]
    }
   ],
   "source": [
    "print(Ticker, Year, Quarter, pagenum1, pagenum2)"
   ]
  },
  {
   "cell_type": "markdown",
   "metadata": {},
   "source": [
    "#### Generate Questions (using Azure OpenAI only)"
   ]
  },
  {
   "cell_type": "code",
   "execution_count": 13,
   "metadata": {},
   "outputs": [
    {
     "name": "stdout",
     "output_type": "stream",
     "text": [
      "Question 1: What are some AI-powered solutions that Microsoft is currently offering to customers?\n",
      "Answer 1: Microsoft is offering GitHub Copilot, M365 Copilot, and Sales Copilot to customers.\n",
      "\n",
      "Question 2: Are customers interested in using generative AI technology and how fast do they want to utilize it?\n",
      "Answer 2: Yes, customers are interested in utilizing generative AI technology. However, no specific timeframe was mentioned in the given text.\n",
      "\n",
      "Question 3: What AI-powered collaborative articles are driving the most traffic to LinkedIn?\n",
      "Answer 3: LinkedIn's AI-powered collaborative articles are the fastest-growing traffic driver to the platform, but no specific type or topic was mentioned.\n",
      "\n",
      "Question 4: How is LinkedIn using AI to ensure trust and authenticity amongst its members?\n",
      "Answer 4: LinkedIn is helping its members verify their identities and places of work through integration with Microsoft Entra, as well as CLEAR and Hyperverge. \n",
      "\n",
      "Question 5: What are some new AI-powered features that Bing introduced this quarter?\n",
      "Answer 5: Bing introduced multimodal capabilities with visual search in Bing Chat and Bing Chat Enterprise, which offers commercial data protection.\n",
      "\n",
      "Question 6: Is Bing the default search experience for OpenAI's ChatGPT?\n",
      "Answer 6: Yes, Bing is the default search experience for OpenAI's ChatGPT.\n",
      "\n",
      "Question 7: How many members have verified their identities or places of work on LinkedIn?\n",
      "Answer 7: More than 7 million members have verified their identities or places of work on LinkedIn.\n",
      "\n",
      "Question 8: What is the main focus of Microsoft's generative AI technology strategy?\n",
      "Answer 8: Microsoft's generative AI technology strategy focuses on offering solutions that provide the easiest path to value for customers.\n",
      "\n",
      "Question 9: What is the main goal of LinkedIn's AI-powered collaborative articles?\n",
      "Answer 9: The main goal of LinkedIn's AI-powered collaborative articles is to drive traffic to the platform.\n",
      "\n",
      "Question 10: How does Bing's new AI-powered features benefit businesses?\n",
      "Answer 10: Bing Chat Enterprise offers commercial data protection, which is an easy on-ramp for organizations looking to get the benefit of this next generation AI solution.\n"
     ]
    }
   ],
   "source": [
    "import os\n",
    "from openai import AzureOpenAI\n",
    "\n",
    "client = AzureOpenAI(\n",
    "  api_key = openai.api_key,  \n",
    "  api_version = openai.api_version,\n",
    "  azure_endpoint = openai.api_base\n",
    ")\n",
    "\n",
    "response = client.chat.completions.create(\n",
    "    model=\"gpt-35-turbo\", # model = \"deployment_name\".\n",
    "    messages=[\n",
    "        {\"role\": \"system\", \"content\":\"You are a generator of questions and answers for the given text.\" },\n",
    "        {\"role\": \"user\", \"content\": template.format(chunk_text1=chunk1, chunk_text2=chunk2, \n",
    "                                                    ticker=Ticker, year=str(Year), quarter=str(Quarter))}\n",
    "    ]\n",
    ")\n",
    "\n",
    "#print(response)\n",
    "# print(response.model_dump_json(indent=2))\n",
    "print(response.choices[0].message.content)\n",
    "\n",
    "#TODO: Add cells showing adding tools to the chat completion. It is an update to functionc calling feature. Function calling feature is not available in the current version of the API.OpenAI version > 1.0.0."
   ]
  },
  {
   "cell_type": "code",
   "execution_count": 14,
   "metadata": {},
   "outputs": [
    {
     "name": "stdout",
     "output_type": "stream",
     "text": [
      "Question 1: What are some AI-powered solutions that Microsoft is currently offering to customers?\n",
      "Answer 1: Microsoft is offering GitHub Copilot, M365 Copilot, and Sales Copilot to customers.\n",
      "\n",
      "Question 2: Are customers interested in using generative AI technology and how fast do they want to utilize it?\n",
      "Answer 2: Yes, customers are interested in utilizing generative AI technology. However, no specific timeframe was mentioned in the given text.\n",
      "\n",
      "Question 3: What AI-powered collaborative articles are driving the most traffic to LinkedIn?\n",
      "Answer 3: LinkedIn's AI-powered collaborative articles are the fastest-growing traffic driver to the platform, but no specific type or topic was mentioned.\n",
      "\n",
      "Question 4: How is LinkedIn using AI to ensure trust and authenticity amongst its members?\n",
      "Answer 4: LinkedIn is helping its members verify their identities and places of work through integration with Microsoft Entra, as well as CLEAR and Hyperverge. \n",
      "\n",
      "Question 5: What are some new AI-powered features that Bing introduced this quarter?\n",
      "Answer 5: Bing introduced multimodal capabilities with visual search in Bing Chat and Bing Chat Enterprise, which offers commercial data protection.\n",
      "\n",
      "Question 6: Is Bing the default search experience for OpenAI's ChatGPT?\n",
      "Answer 6: Yes, Bing is the default search experience for OpenAI's ChatGPT.\n",
      "\n",
      "Question 7: How many members have verified their identities or places of work on LinkedIn?\n",
      "Answer 7: More than 7 million members have verified their identities or places of work on LinkedIn.\n",
      "\n",
      "Question 8: What is the main focus of Microsoft's generative AI technology strategy?\n",
      "Answer 8: Microsoft's generative AI technology strategy focuses on offering solutions that provide the easiest path to value for customers.\n",
      "\n",
      "Question 9: What is the main goal of LinkedIn's AI-powered collaborative articles?\n",
      "Answer 9: The main goal of LinkedIn's AI-powered collaborative articles is to drive traffic to the platform.\n",
      "\n",
      "Question 10: How does Bing's new AI-powered features benefit businesses?\n",
      "Answer 10: Bing Chat Enterprise offers commercial data protection, which is an easy on-ramp for organizations looking to get the benefit of this next generation AI solution.\n"
     ]
    }
   ],
   "source": [
    "print(response.choices[0].message.content)\n"
   ]
  },
  {
   "cell_type": "code",
   "execution_count": 16,
   "metadata": {},
   "outputs": [
    {
     "data": {
      "text/plain": [
       "['one question.',\n",
       " 'Joe, can you please repeat your instructions?',\n",
       " '(Operator Direction.) KEITH WEISS, Morgan Stanley: Excellent.',\n",
       " 'Thank you guys for taking the question and very nice end to a great fiscal year.',\n",
       " 'Satya, you started out your comments talking about how every customer conversation has the customer asking you about utilizing generative AI technology and how fast they could utilize that generative AI technology.',\n",
       " \"What's the answer?\",\n",
       " 'What do you tell them in terms of the pace with which that could get into the marketplace and your customers could start using it?',\n",
       " ' that could get into the marketplace and your customers could start using it?',\n",
       " 'And then for Amy, how should investors think about just the fundamental gross margins behind these generative AI technologies?',\n",
       " \"We understand there's going to be a lot of CapEx to ramp up underneath these, but what should we expect in terms of what the ultimate gross margin looks like underneath all these new generative AI solutions?\",\n",
       " 'Thank you.',\n",
       " 'SATYA NADELLA: Thank you, Keith, for the question.',\n",
       " 'The fundamental guidance and conversation that we have with customers is twofold.',\n",
       " 'One is the easiest path to value or generative AI is to adopt certain solutions.',\n",
       " 'For  guidance and conversation that we have with customers is twofold.',\n",
       " 'One is the easiest path to value or generative AI is to adopt certain solutions.',\n",
       " \"For example, GitHub Copilot, in some sense, it's sort of the no brainer to add productivity leverage for all of the software developers in any organization.\",\n",
       " \"Whether you're a bank, you're a retailer or you're a software company, it applies to everyone.\",\n",
       " \"That's probably one of the things that we are seeing very good even productivity data and great adoption.\",\n",
       " 'And then obviously the excitement that there is already around the M365 Copilot.',\n",
       " \"First thing we sort of talked about is how we ourselves are deploying all these copilots across, whether it's Sales Copilot or M365 \"]"
      ]
     },
     "execution_count": 16,
     "metadata": {},
     "output_type": "execute_result"
    }
   ],
   "source": [
    "import re\n",
    "_pattern = re.compile(r'(?<!\\w\\.\\w.)(?<![A-Z][a-z]\\.)(?<=\\.|\\?)\\s')\n",
    "retrieved_sentences=_pattern.split(chunk1)\n",
    "retrieved_sentences"
   ]
  },
  {
   "cell_type": "code",
   "execution_count": 17,
   "metadata": {},
   "outputs": [
    {
     "data": {
      "text/plain": [
       "['fourth consecutive quarter.',\n",
       " 'We continue to use AI to help our members and customers connect to opportunities and tap into experiences of experts on the platform.',\n",
       " \"Our AI- powered collaborative articles are now the fastest-growing traffic driver to LinkedIn. And finally, we're helping LinkedIn stay trusted and authentic.\",\n",
       " 'More than 7 million members have verified who they are or where they work, many using new integrations with Microsoft Entra, as well as CLEAR and Hyperverge.',\n",
       " 'Now, on to search, advertising, and news.',\n",
       " ' Hyperverge.',\n",
       " 'Now, on to search, advertising, and news.',\n",
       " \"While it's early in our journey, we are reshaping daily search and web habits with our Copilot for the web.\",\n",
       " 'This quarter, we introduced new AI-powered features, including multimodal capabilities with visual search in Bing Chat.',\n",
       " \"We're expanding to businesses, with Bing Chat Enterprise, which offers commercial data protection, providing an easy on-ramp for any organization looking to get the benefit of this next generation of AI today.\",\n",
       " \"Bing is also the default search experience for OpenAl's ChatGPT, bringing \"]"
      ]
     },
     "execution_count": 17,
     "metadata": {},
     "output_type": "execute_result"
    }
   ],
   "source": [
    "retrieved_sentences2=_pattern.split(chunk2)\n",
    "retrieved_sentences2"
   ]
  },
  {
   "cell_type": "markdown",
   "metadata": {},
   "source": [
    "### Save Eval Set to a csv\n"
   ]
  },
  {
   "cell_type": "markdown",
   "metadata": {},
   "source": [
    "**Note on text structuring and format:** We could chain another llm call to convert to a format suitable to be saved to csv. The prompt can be modified to provide answer in this form directly. But, it is left as an exercise for the user to update prompt to work with whatever format they want to use. Here we split and reorganize the format output by the model using python, for the promptflow sample.\n",
    "\n",
    "**Note on csv dataset format choice:** csv is a customer requirement, and a proper way can be to log them to a database and populate them. "
   ]
  },
  {
   "cell_type": "code",
   "execution_count": 19,
   "metadata": {},
   "outputs": [],
   "source": [
    "qa_string = response.choices[0].message.content\n",
    "# Parse the string into rows\n",
    "rows = [row.strip() for row in qa_string.split('\\n') if row.strip()]\n",
    "\n",
    "# Separate questions and answers\n",
    "questions = [row.split(\": \", 1)[1] for i, row in enumerate(rows) if i % 2 == 0]\n",
    "answers = [row.split(\": \", 1)[1] for i, row in enumerate(rows) if (i - 1) % 2 == 0]\n",
    "\n",
    "# Combine into a list of dictionaries\n",
    "qa_data = [{\"chat_history\": \"[]\", \"question\": q, \"answer\": a} for q, a in zip(questions, answers)]"
   ]
  },
  {
   "cell_type": "code",
   "execution_count": 20,
   "metadata": {},
   "outputs": [
    {
     "data": {
      "text/plain": [
       "[{'chat_history': '[]',\n",
       "  'question': 'What are some AI-powered solutions that Microsoft is currently offering to customers?',\n",
       "  'answer': 'Microsoft is offering GitHub Copilot, M365 Copilot, and Sales Copilot to customers.'},\n",
       " {'chat_history': '[]',\n",
       "  'question': 'Are customers interested in using generative AI technology and how fast do they want to utilize it?',\n",
       "  'answer': 'Yes, customers are interested in utilizing generative AI technology. However, no specific timeframe was mentioned in the given text.'},\n",
       " {'chat_history': '[]',\n",
       "  'question': 'What AI-powered collaborative articles are driving the most traffic to LinkedIn?',\n",
       "  'answer': \"LinkedIn's AI-powered collaborative articles are the fastest-growing traffic driver to the platform, but no specific type or topic was mentioned.\"},\n",
       " {'chat_history': '[]',\n",
       "  'question': 'How is LinkedIn using AI to ensure trust and authenticity amongst its members?',\n",
       "  'answer': 'LinkedIn is helping its members verify their identities and places of work through integration with Microsoft Entra, as well as CLEAR and Hyperverge.'},\n",
       " {'chat_history': '[]',\n",
       "  'question': 'What are some new AI-powered features that Bing introduced this quarter?',\n",
       "  'answer': 'Bing introduced multimodal capabilities with visual search in Bing Chat and Bing Chat Enterprise, which offers commercial data protection.'},\n",
       " {'chat_history': '[]',\n",
       "  'question': \"Is Bing the default search experience for OpenAI's ChatGPT?\",\n",
       "  'answer': \"Yes, Bing is the default search experience for OpenAI's ChatGPT.\"},\n",
       " {'chat_history': '[]',\n",
       "  'question': 'How many members have verified their identities or places of work on LinkedIn?',\n",
       "  'answer': 'More than 7 million members have verified their identities or places of work on LinkedIn.'},\n",
       " {'chat_history': '[]',\n",
       "  'question': \"What is the main focus of Microsoft's generative AI technology strategy?\",\n",
       "  'answer': \"Microsoft's generative AI technology strategy focuses on offering solutions that provide the easiest path to value for customers.\"},\n",
       " {'chat_history': '[]',\n",
       "  'question': \"What is the main goal of LinkedIn's AI-powered collaborative articles?\",\n",
       "  'answer': \"The main goal of LinkedIn's AI-powered collaborative articles is to drive traffic to the platform.\"},\n",
       " {'chat_history': '[]',\n",
       "  'question': \"How does Bing's new AI-powered features benefit businesses?\",\n",
       "  'answer': 'Bing Chat Enterprise offers commercial data protection, which is an easy on-ramp for organizations looking to get the benefit of this next generation AI solution.'}]"
      ]
     },
     "execution_count": 20,
     "metadata": {},
     "output_type": "execute_result"
    }
   ],
   "source": [
    "qa_data"
   ]
  },
  {
   "cell_type": "code",
   "execution_count": 21,
   "metadata": {},
   "outputs": [
    {
     "name": "stdout",
     "output_type": "stream",
     "text": [
      "Data has been saved to ../datasets/generated_eval_set.csv.\n"
     ]
    }
   ],
   "source": [
    "csv_file_path = \"../datasets/generated_eval_set.csv\"\n",
    "import csv\n",
    "# Writing to CSV file\n",
    "with open(csv_file_path, mode='w', newline='') as file:\n",
    "    writer = csv.DictWriter(file, fieldnames=[\"chat_history\", \"question\", \"answer\"])\n",
    "    \n",
    "    # Write headers\n",
    "    writer.writeheader()\n",
    "    \n",
    "    # Write data\n",
    "    writer.writerows(qa_data)\n",
    "\n",
    "print(f\"Data has been saved to {csv_file_path}.\")"
   ]
  },
  {
   "cell_type": "code",
   "execution_count": null,
   "metadata": {},
   "outputs": [],
   "source": []
  }
 ],
 "metadata": {
  "kernelspec": {
   "display_name": "appliedai",
   "language": "python",
   "name": "python3"
  },
  "language_info": {
   "codemirror_mode": {
    "name": "ipython",
    "version": 3
   },
   "file_extension": ".py",
   "mimetype": "text/x-python",
   "name": "python",
   "nbconvert_exporter": "python",
   "pygments_lexer": "ipython3",
   "version": "3.9.18"
  }
 },
 "nbformat": 4,
 "nbformat_minor": 2
}
