{
 "cells": [
  {
   "cell_type": "markdown",
   "metadata": {},
   "source": [
    "### Goal\n",
    "Run flows using sdk and allowing for external configuration of RAG parameters. "
   ]
  },
  {
   "cell_type": "markdown",
   "metadata": {},
   "source": [
    "### Check Connections"
   ]
  },
  {
   "cell_type": "code",
   "execution_count": 1,
   "metadata": {},
   "outputs": [
    {
     "name": "stdout",
     "output_type": "stream",
     "text": [
      "azureopenai_local (AzureOpenAI)\n",
      "aoai_connection (AzureOpenAI)\n",
      "default_connection (CognitiveSearch)\n",
      "cosmodb_connection (Custom)\n",
      "acs_connection (CognitiveSearch)\n",
      "azure_form_recognizer_connection (Custom)\n",
      "acs_connection_test (CognitiveSearch)\n",
      "aoai_connection_test (AzureOpenAI)\n",
      "postgres_connection (Custom)\n"
     ]
    }
   ],
   "source": [
    "import promptflow\n",
    "\n",
    "pf = promptflow.PFClient()\n",
    "\n",
    "# List all the available connections\n",
    "for c in pf.connections.list():\n",
    "    print(c.name + \" (\" + c.type + \")\")"
   ]
  },
  {
   "cell_type": "markdown",
   "metadata": {},
   "source": [
    "### Test the flow"
   ]
  },
  {
   "cell_type": "code",
   "execution_count": 2,
   "metadata": {},
   "outputs": [
    {
     "name": "stderr",
     "output_type": "stream",
     "text": [
      "[2024-03-15 08:35:43,445][promptflow._sdk.entities._connection][WARNING] - Please use connection.secrets[key] to access secrets.\n"
     ]
    },
    {
     "name": "stdout",
     "output_type": "stream",
     "text": [
      "2024-03-15 08:35:44 -0700   41444 execution.flow     INFO     Start executing nodes in thread pool mode.\n",
      "2024-03-15 08:35:44 -0700   41444 execution.flow     INFO     Start to run 15 nodes with concurrency level 16.\n",
      "2024-03-15 08:35:44 -0700   41444 execution.flow     INFO     Executing node ConfigLoader. node run id: ccbfba2a-8ec9-4268-b5fd-4d50f2c33357_ConfigLoader_0\n",
      "2024-03-15 08:35:44 -0700   41444 execution.flow     INFO     Executing node CheckExistingContext. node run id: ccbfba2a-8ec9-4268-b5fd-4d50f2c33357_CheckExistingContext_0\n",
      "2024-03-15 08:35:44 -0700   41444 execution.flow     INFO     Executing node QueryParser. node run id: ccbfba2a-8ec9-4268-b5fd-4d50f2c33357_QueryParser_0\n",
      "2024-03-15 08:35:44 -0700   41444 execution.flow     INFO     Executing node FormatConversation. node run id: ccbfba2a-8ec9-4268-b5fd-4d50f2c33357_FormatConversation_0\n",
      "2024-03-15 08:35:44 -0700   41444 execution.flow     INFO     Executing node Embedding. node run id: ccbfba2a-8ec9-4268-b5fd-4d50f2c33357_Embedding_0\n",
      "2024-03-15 08:35:44 -0700   41444 execution.flow     INFO     Node ConfigLoader completes.\n",
      "2024-03-15 08:35:44 -0700   41444 execution.flow     INFO     Node CheckExistingContext completes.\n",
      "2024-03-15 08:35:44 -0700   41444 execution.flow     INFO     Node QueryParser completes.\n",
      "2024-03-15 08:35:44 -0700   41444 execution.flow     INFO     Node FormatConversation completes.\n",
      "2024-03-15 08:35:44 -0700   41444 execution.flow     INFO     Executing node ChatFlow. node run id: ccbfba2a-8ec9-4268-b5fd-4d50f2c33357_ChatFlow_0\n",
      "2024-03-15 08:35:44 -0700   41444 execution.flow     INFO     Executing node LogParam. node run id: ccbfba2a-8ec9-4268-b5fd-4d50f2c33357_LogParam_0\n",
      "2024-03-15 08:35:44 -0700   41444 execution.flow     INFO     Executing node CollectionFilter. node run id: ccbfba2a-8ec9-4268-b5fd-4d50f2c33357_CollectionFilter_0\n",
      "2024-03-15 08:35:44 -0700   41444 execution.flow     INFO     Node ChatFlow completes.\n",
      "2024-03-15 08:35:44 -0700   41444 execution.flow     INFO     Node LogParam completes.\n",
      "2024-03-15 08:35:44 -0700   41444 execution.flow     INFO     Node CollectionFilter completes.\n",
      "2024-03-15 08:35:44 -0700   41444 execution.flow     INFO     Bypassing node GetContextFromHistory. node run id: ccbfba2a-8ec9-4268-b5fd-4d50f2c33357_GetContextFromHistory_0\n",
      "2024-03-15 08:35:44 -0700   41444 execution.flow     INFO     Bypassing node ContinueReply. node run id: ccbfba2a-8ec9-4268-b5fd-4d50f2c33357_ContinueReply_0\n",
      "2024-03-15 08:35:45 -0700   41444 execution.flow     INFO     Node Embedding completes.\n",
      "2024-03-15 08:35:45 -0700   41444 execution.flow     INFO     Executing node Azure_CosmosDB_MongoDB_vCore_Vector_Search. node run id: ccbfba2a-8ec9-4268-b5fd-4d50f2c33357_Azure_CosmosDB_MongoDB_vCore_Vector_Search_0\n",
      "2024-03-15 08:35:47 -0700   41444 execution.flow     INFO     Node Azure_CosmosDB_MongoDB_vCore_Vector_Search completes.\n",
      "2024-03-15 08:35:47 -0700   41444 execution.flow     INFO     Executing node FormatRetrievedDocuments. node run id: ccbfba2a-8ec9-4268-b5fd-4d50f2c33357_FormatRetrievedDocuments_0\n",
      "2024-03-15 08:35:47 -0700   41444 execution.flow     INFO     Node FormatRetrievedDocuments completes.\n",
      "2024-03-15 08:35:47 -0700   41444 execution.flow     INFO     Executing node DetermineReply. node run id: ccbfba2a-8ec9-4268-b5fd-4d50f2c33357_DetermineReply_0\n",
      "2024-03-15 08:35:49 -0700   41444 execution.flow     INFO     Node DetermineReply completes.\n",
      "2024-03-15 08:35:49 -0700   41444 execution.flow     INFO     Executing node FormatReply. node run id: ccbfba2a-8ec9-4268-b5fd-4d50f2c33357_FormatReply_0\n",
      "2024-03-15 08:35:49 -0700   41444 execution.flow     INFO     Node FormatReply completes.\n",
      "2024-03-15 08:35:49 -0700   41444 execution.flow     INFO     Executing node GenerateResult. node run id: ccbfba2a-8ec9-4268-b5fd-4d50f2c33357_GenerateResult_0\n",
      "2024-03-15 08:35:49 -0700   41444 execution.flow     INFO     Node GenerateResult completes.\n",
      "{'fetched_docs': '{\"retrieved_documents\": [{\"[doc[0]\": {\"content\": \"For Intelligent Cloud we expect revenue to grow between 22 and 24 percent in constant currency or $21.25 to $21.55 billion US dollars.\\\\n\\\\nRevenue will continue to be driven by Azure which, as a reminder, can have quarterly variability primarily from our per-user business and from in-period revenue recognition depending on the mix of contracts. \\\\n\\\\nWe expect Azure revenue growth to be sequentially lower by roughly 5 points on a constant currency basis. Azure revenue will continue to be driven by strong growth in consumption with some impact from the Q1 \\\\n\\\\n\\\\n\\\\ntrends noted earlier. And our per-user business should continue to benefit from Microsoft 365 suite momentum, though we expect moderation in growth rates given the size of the installed base. \\\\n\\\\nIn our on-premises server business, we expect revenue to decline low-single digits as demand for our hybrid solutions including strong annuity purchasing from the SQL Server 2022 launch, will be more than offset by unfavorable FX impact.\\\\n\\\\nAnd in Enterprise Services, we expect revenue growth to be in the low-single digits driven by Enterprise Support. \\\\n\\\\nIn More Personal Computing, we expect revenue of $14.5 to $14.9 billion US dollars. \\\\n\\\\nIn Windows OEM we expect revenue to decline in the high 30s. Excluding the impact from the Windows 11 revenue deferral last year, revenue would decline mid-30s reflecting both PC market demand and a strong prior year comparable, particularly in the commercial segment. \\\\n\\\\n\\\\n\\\\nIn Devices, revenue should decline approximately 30 percent, again roughly in line with the PC market. \\\\n\\\\nIn Windows commercial products and cloud services, customer demand for Microsoft 365 and our advanced security solutions should drive growth in the mid-single digits or low double digits in constant currency. \\\\n\\\\nSearch and news advertising ex-TAC should grow in the low-to-mid teens, roughly 6 points faster than overall Search and news advertising revenue, driven by growing first party revenue and the inclusion of Xandr.\\\\n\\\\nAnd in Gaming, we expect revenue to decline in the low-to-mid teens against a strong prior year comparable that included several first-party title launches, partially offset by growth in Xbox Game Pass subscribers. We expect Xbox content and services revenue to decline in the low-to-mid-teens. \\\\n\\\\nNow back to company guidance.\\\\n\\\\nWe expect COGS to grow between 6 and 7 percent in constant currency or to be between $17.4 and $17.6 billion US dollars and operating expense to \\\\n\\\\n\\\\n\\\\ngrow between 17 and 18 percent in constant currency or to be between $14.3 and $14.4 billion US dollars. As we continue to focus our investment in key growth areas, total headcount growth sequentially should be minimal. \\\\n\\\\nOther income and expense should be roughly $100 million as interest income is expected to more than offset interest expense. Further FX and equity movements thru Q2 are not reflected in this number. And as a reminder, we are required to recognize mark-to-market gains or losses on our equity portfolio, which can increase quarterly volatility.\\\\n\\\\nAnd we expect our Q2 effective tax rate to be between 19 and 20 percent. \\\\n\\\\nAnd finally, as a reminder for Q2 cash flow, we expect to make a 2.4-billion-dollar cash tax payment related to the capitalization of R&D provision enacted in the 2017 TCJA and effective as of July 1, 2022. \\\\n\\\\nNow some thoughts on the full fiscal year.\\\\n\\\\n\\\\n\\\\nFirst, FX. Based on current rates, we now expect a roughly 5-point headwind to full year revenue growth. And FX should decrease COGS and operating expense growth by approximately 3 points.  \\\\n\\\\nAt the total company level, we continue to expect double-digit revenue and operating income growth on a constant currency basis. Revenue will be driven by around 20 percent constant currency growth in our commercial business driven by strong demand for our Microsoft Cloud offerings. That growth will be partially offset by the increased declines we now see in the PC market.\"}}, {\"[doc[1]\": {\"content\": \"For Intelligent Cloud we expect revenue to grow between 22 and 24 percent in constant currency or $21.25 to $21.55 billion US dollars.\\\\n\\\\nRevenue will continue to be driven by Azure which, as a reminder, can have quarterly variability primarily from our per-user business and from in-period revenue recognition depending on the mix of contracts. \\\\n\\\\nWe expect Azure revenue growth to be sequentially lower by roughly 5 points on a constant currency basis. Azure revenue will continue to be driven by strong growth in consumption with some impact from the Q1 \\\\n\\\\n\\\\n\\\\ntrends noted earlier. And our per-user business should continue to benefit from Microsoft 365 suite momentum, though we expect moderation in growth rates given the size of the installed base. \\\\n\\\\nIn our on-premises server business, we expect revenue to decline low-single digits as demand for our hybrid solutions including strong annuity purchasing from the SQL Server 2022 launch, will be more than offset by unfavorable FX impact.\\\\n\\\\nAnd in Enterprise Services, we expect revenue growth to be in the low-single digits driven by Enterprise Support. \\\\n\\\\nIn More Personal Computing, we expect revenue of $14.5 to $14.9 billion US dollars. \\\\n\\\\nIn Windows OEM we expect revenue to decline in the high 30s. Excluding the impact from the Windows 11 revenue deferral last year, revenue would decline mid-30s reflecting both PC market demand and a strong prior year comparable, particularly in the commercial segment. \\\\n\\\\n\\\\n\\\\nIn Devices, revenue should decline approximately 30 percent, again roughly in line with the PC market. \\\\n\\\\nIn Windows commercial products and cloud services, customer demand for Microsoft 365 and our advanced security solutions should drive growth in the mid-single digits or low double digits in constant currency. \\\\n\\\\nSearch and news advertising ex-TAC should grow in the low-to-mid teens, roughly 6 points faster than overall Search and news advertising revenue, driven by growing first party revenue and the inclusion of Xandr.\\\\n\\\\nAnd in Gaming, we expect revenue to decline in the low-to-mid teens against a strong prior year comparable that included several first-party title launches, partially offset by growth in Xbox Game Pass subscribers. We expect Xbox content and services revenue to decline in the low-to-mid-teens. \\\\n\\\\nNow back to company guidance.\\\\n\\\\nWe expect COGS to grow between 6 and 7 percent in constant currency or to be between $17.4 and $17.6 billion US dollars and operating expense to \\\\n\\\\n\\\\n\\\\ngrow between 17 and 18 percent in constant currency or to be between $14.3 and $14.4 billion US dollars. As we continue to focus our investment in key growth areas, total headcount growth sequentially should be minimal. \\\\n\\\\nOther income and expense should be roughly $100 million as interest income is expected to more than offset interest expense. Further FX and equity movements thru Q2 are not reflected in this number. And as a reminder, we are required to recognize mark-to-market gains or losses on our equity portfolio, which can increase quarterly volatility.\\\\n\\\\nAnd we expect our Q2 effective tax rate to be between 19 and 20 percent. \\\\n\\\\nAnd finally, as a reminder for Q2 cash flow, we expect to make a 2.4-billion-dollar cash tax payment related to the capitalization of R&D provision enacted in the 2017 TCJA and effective as of July 1, 2022. \\\\n\\\\nNow some thoughts on the full fiscal year.\\\\n\\\\n\\\\n\\\\nFirst, FX. Based on current rates, we now expect a roughly 5-point headwind to full year revenue growth. And FX should decrease COGS and operating expense growth by approximately 3 points.  \\\\n\\\\nAt the total company level, we continue to expect double-digit revenue and operating income growth on a constant currency basis. Revenue will be driven by around 20 percent constant currency growth in our commercial business driven by strong demand for our Microsoft Cloud offerings. That growth will be partially offset by the increased declines we now see in the PC market.\"}}]}', 'log_params': {'filter': {'Year': '23', 'Quarter': '1'}, 'topK': 3, 'maxTokens': 3500, 'searchType': 'vector', 'dbName': '${ConfigLoader.output.dbName)'}, 'reply': 'According to the retrieved documents, there is no information available about the growth rate of Azure ML revenue in FY23Q1. The documents only provide revenue growth expectations for Intelligent Cloud as a whole, which is expected to grow between 22 and 24 percent in constant currency or $21.25 to $21.55 billion US dollars, with Azure revenue growth expected to be sequentially lower by roughly 5 points on a constant currency basis[doc0][doc1].'}\n"
     ]
    }
   ],
   "source": [
    "output = pf.flows.test(\n",
    "    \"../../rag-cosmos-mongo/flow.dag.yaml\",\n",
    "    inputs={\n",
    "        \"chat_history\": [],\n",
    "        \"query\": \"What is the growth rate of Azure ML revenue in FY23Q1?\",\n",
    "    },\n",
    ")\n",
    "\n",
    "print(output)"
   ]
  },
  {
   "cell_type": "markdown",
   "metadata": {},
   "source": [
    "### Run the flow with the benchmark data file"
   ]
  },
  {
   "cell_type": "code",
   "execution_count": 3,
   "metadata": {},
   "outputs": [
    {
     "ename": "",
     "evalue": "",
     "output_type": "error",
     "traceback": [
      "\u001b[1;31mThe Kernel crashed while executing code in the current cell or a previous cell. \n",
      "\u001b[1;31mPlease review the code in the cell(s) to identify a possible cause of the failure. \n",
      "\u001b[1;31mClick <a href='https://aka.ms/vscodeJupyterKernelCrash'>here</a> for more info. \n",
      "\u001b[1;31mView Jupyter <a href='command:jupyter.viewOutput'>log</a> for further details."
     ]
    }
   ],
   "source": [
    "flow_path = \"../../rag-cosmos-mongo/flow.dag.yaml\"\n",
    "data_path = \"../../datasets/evalset.csv\"\n",
    "\n",
    "column_mapping = {\n",
    "    \"chat_history\": \"${data.chat_history}\",\n",
    "    \"query\": \"${data.question}\",\n",
    "}\n",
    "\n",
    "run_mongo_topk3 = pf.run(flow=flow_path, data=data_path, column_mapping=column_mapping)\n",
    "pf.stream(run_mongo_topk3)\n",
    "print(run_mongo_topk3)"
   ]
  },
  {
   "cell_type": "code",
   "execution_count": null,
   "metadata": {},
   "outputs": [
    {
     "data": {
      "text/html": [
       "<div>\n",
       "<style scoped>\n",
       "    .dataframe tbody tr th:only-of-type {\n",
       "        vertical-align: middle;\n",
       "    }\n",
       "\n",
       "    .dataframe tbody tr th {\n",
       "        vertical-align: top;\n",
       "    }\n",
       "\n",
       "    .dataframe thead th {\n",
       "        text-align: right;\n",
       "    }\n",
       "</style>\n",
       "<table border=\"1\" class=\"dataframe\">\n",
       "  <thead>\n",
       "    <tr style=\"text-align: right;\">\n",
       "      <th></th>\n",
       "      <th>inputs.chat_history</th>\n",
       "      <th>inputs.query</th>\n",
       "      <th>inputs.line_number</th>\n",
       "      <th>outputs.fetched_docs</th>\n",
       "      <th>outputs.log_params</th>\n",
       "      <th>outputs.reply</th>\n",
       "    </tr>\n",
       "  </thead>\n",
       "  <tbody>\n",
       "    <tr>\n",
       "      <th>0</th>\n",
       "      <td>[]</td>\n",
       "      <td>What is the quarterly revenue of Microsoft Clo...</td>\n",
       "      <td>0</td>\n",
       "      <td>{\"retrieved_documents\": [{\"[doc[0]\": {\"content...</td>\n",
       "      <td>{'filter': {'Year': '23', 'Quarter': '1'}, 'to...</td>\n",
       "      <td>The retrieved documents do not provide informa...</td>\n",
       "    </tr>\n",
       "    <tr>\n",
       "      <th>1</th>\n",
       "      <td>[]</td>\n",
       "      <td>How many Azure Arc customers does Microsoft cu...</td>\n",
       "      <td>1</td>\n",
       "      <td>{\"retrieved_documents\": [{\"[doc[0]\": {\"content...</td>\n",
       "      <td>{'filter': {'Year': '23', 'Quarter': '1'}, 'to...</td>\n",
       "      <td>The retrieved documents do not provide informa...</td>\n",
       "    </tr>\n",
       "    <tr>\n",
       "      <th>2</th>\n",
       "      <td>[]</td>\n",
       "      <td>Which companies run SAP on Azure in FY23Q1?</td>\n",
       "      <td>2</td>\n",
       "      <td>{\"retrieved_documents\": [{\"[doc[0]\": {\"content...</td>\n",
       "      <td>{'filter': {'Year': '23', 'Quarter': '1'}, 'to...</td>\n",
       "      <td>The retrieved documents do not provide informa...</td>\n",
       "    </tr>\n",
       "    <tr>\n",
       "      <th>3</th>\n",
       "      <td>[]</td>\n",
       "      <td>What is the annual recurring revenue of GitHub...</td>\n",
       "      <td>3</td>\n",
       "      <td>{\"retrieved_documents\": [{\"[doc[0]\": {\"content...</td>\n",
       "      <td>{'filter': {'Year': '23', 'Quarter': '1'}, 'to...</td>\n",
       "      <td>The retrieved documents do not provide any inf...</td>\n",
       "    </tr>\n",
       "    <tr>\n",
       "      <th>4</th>\n",
       "      <td>[]</td>\n",
       "      <td>How many monthly active users does Power BI ha...</td>\n",
       "      <td>4</td>\n",
       "      <td>{\"retrieved_documents\": [{\"[doc[0]\": {\"content...</td>\n",
       "      <td>{'filter': {'Year': '23', 'Quarter': '1'}, 'to...</td>\n",
       "      <td>The retrieved documents do not provide informa...</td>\n",
       "    </tr>\n",
       "    <tr>\n",
       "      <th>5</th>\n",
       "      <td>[]</td>\n",
       "      <td>What is the quarterly revenue of Microsoft Clo...</td>\n",
       "      <td>5</td>\n",
       "      <td>{\"retrieved_documents\": [{\"[doc[0]\": {\"content...</td>\n",
       "      <td>{'filter': {'Year': '23', 'Quarter': '2'}, 'to...</td>\n",
       "      <td>According to the retrieved document, the Micro...</td>\n",
       "    </tr>\n",
       "    <tr>\n",
       "      <th>6</th>\n",
       "      <td>[]</td>\n",
       "      <td>How many Azure Arc customers does Microsoft cu...</td>\n",
       "      <td>6</td>\n",
       "      <td>{\"retrieved_documents\": [{\"[doc[0]\": {\"content...</td>\n",
       "      <td>{'filter': {'Year': '23', 'Quarter': '2'}, 'to...</td>\n",
       "      <td>The retrieved documents do not provide any inf...</td>\n",
       "    </tr>\n",
       "    <tr>\n",
       "      <th>7</th>\n",
       "      <td>[]</td>\n",
       "      <td>What are some examples of companies using Azur...</td>\n",
       "      <td>7</td>\n",
       "      <td>{\"retrieved_documents\": [{\"[doc[0]\": {\"content...</td>\n",
       "      <td>{'filter': {'Year': '23', 'Quarter': '2'}, 'to...</td>\n",
       "      <td>The retrieved documents do not contain any inf...</td>\n",
       "    </tr>\n",
       "    <tr>\n",
       "      <th>8</th>\n",
       "      <td>[]</td>\n",
       "      <td>How many developers are using GitHub Copilot a...</td>\n",
       "      <td>8</td>\n",
       "      <td>{\"retrieved_documents\": [{\"[doc[0]\": {\"content...</td>\n",
       "      <td>{'filter': {'Year': '23', 'Quarter': '2'}, 'to...</td>\n",
       "      <td>The retrieved documents do not provide any inf...</td>\n",
       "    </tr>\n",
       "    <tr>\n",
       "      <th>9</th>\n",
       "      <td>[]</td>\n",
       "      <td>What is the growth rate of Azure Machine Learn...</td>\n",
       "      <td>9</td>\n",
       "      <td>{\"retrieved_documents\": [{\"[doc[0]\": {\"content...</td>\n",
       "      <td>{'filter': {'Year': '23', 'Quarter': '1'}, 'to...</td>\n",
       "      <td>The retrieved documents do not provide informa...</td>\n",
       "    </tr>\n",
       "  </tbody>\n",
       "</table>\n",
       "</div>"
      ],
      "text/plain": [
       "  inputs.chat_history                                       inputs.query  \\\n",
       "0                  []  What is the quarterly revenue of Microsoft Clo...   \n",
       "1                  []  How many Azure Arc customers does Microsoft cu...   \n",
       "2                  []        Which companies run SAP on Azure in FY23Q1?   \n",
       "3                  []  What is the annual recurring revenue of GitHub...   \n",
       "4                  []  How many monthly active users does Power BI ha...   \n",
       "5                  []  What is the quarterly revenue of Microsoft Clo...   \n",
       "6                  []  How many Azure Arc customers does Microsoft cu...   \n",
       "7                  []  What are some examples of companies using Azur...   \n",
       "8                  []  How many developers are using GitHub Copilot a...   \n",
       "9                  []  What is the growth rate of Azure Machine Learn...   \n",
       "\n",
       "   inputs.line_number                               outputs.fetched_docs  \\\n",
       "0                   0  {\"retrieved_documents\": [{\"[doc[0]\": {\"content...   \n",
       "1                   1  {\"retrieved_documents\": [{\"[doc[0]\": {\"content...   \n",
       "2                   2  {\"retrieved_documents\": [{\"[doc[0]\": {\"content...   \n",
       "3                   3  {\"retrieved_documents\": [{\"[doc[0]\": {\"content...   \n",
       "4                   4  {\"retrieved_documents\": [{\"[doc[0]\": {\"content...   \n",
       "5                   5  {\"retrieved_documents\": [{\"[doc[0]\": {\"content...   \n",
       "6                   6  {\"retrieved_documents\": [{\"[doc[0]\": {\"content...   \n",
       "7                   7  {\"retrieved_documents\": [{\"[doc[0]\": {\"content...   \n",
       "8                   8  {\"retrieved_documents\": [{\"[doc[0]\": {\"content...   \n",
       "9                   9  {\"retrieved_documents\": [{\"[doc[0]\": {\"content...   \n",
       "\n",
       "                                  outputs.log_params  \\\n",
       "0  {'filter': {'Year': '23', 'Quarter': '1'}, 'to...   \n",
       "1  {'filter': {'Year': '23', 'Quarter': '1'}, 'to...   \n",
       "2  {'filter': {'Year': '23', 'Quarter': '1'}, 'to...   \n",
       "3  {'filter': {'Year': '23', 'Quarter': '1'}, 'to...   \n",
       "4  {'filter': {'Year': '23', 'Quarter': '1'}, 'to...   \n",
       "5  {'filter': {'Year': '23', 'Quarter': '2'}, 'to...   \n",
       "6  {'filter': {'Year': '23', 'Quarter': '2'}, 'to...   \n",
       "7  {'filter': {'Year': '23', 'Quarter': '2'}, 'to...   \n",
       "8  {'filter': {'Year': '23', 'Quarter': '2'}, 'to...   \n",
       "9  {'filter': {'Year': '23', 'Quarter': '1'}, 'to...   \n",
       "\n",
       "                                       outputs.reply  \n",
       "0  The retrieved documents do not provide informa...  \n",
       "1  The retrieved documents do not provide informa...  \n",
       "2  The retrieved documents do not provide informa...  \n",
       "3  The retrieved documents do not provide any inf...  \n",
       "4  The retrieved documents do not provide informa...  \n",
       "5  According to the retrieved document, the Micro...  \n",
       "6  The retrieved documents do not provide any inf...  \n",
       "7  The retrieved documents do not contain any inf...  \n",
       "8  The retrieved documents do not provide any inf...  \n",
       "9  The retrieved documents do not provide informa...  "
      ]
     },
     "execution_count": 4,
     "metadata": {},
     "output_type": "execute_result"
    }
   ],
   "source": [
    "pf.get_details(run_mongo_topk3)"
   ]
  },
  {
   "cell_type": "code",
   "execution_count": null,
   "metadata": {},
   "outputs": [],
   "source": [
    "ddf = pf.get_details(run_mongo_topk3)\n",
    "#ddf.to_csv(\"checkoutput.csv\")"
   ]
  },
  {
   "cell_type": "markdown",
   "metadata": {},
   "source": [
    "## Evaluate "
   ]
  },
  {
   "cell_type": "code",
   "execution_count": null,
   "metadata": {},
   "outputs": [],
   "source": [
    "eval_flow_path = \"../../evaluator/eval_aistudio_score/\"\n",
    "data_path = \"../../datasets/evalset.csv\"\n",
    "\n",
    "eval_mongo_run_topk3 = pf.run(\n",
    "    flow=eval_flow_path,\n",
    "    run=run_mongo_topk3,\n",
    "    data=data_path,\n",
    "    column_mapping={\n",
    "        \"question\": \"${data.question}\",\n",
    "        \"answer\": \"${data.answer}\",\n",
    "    },\n",
    "    display_name=\"eval_mongo_aistudio_score_topk3\",\n",
    ")\n",
    "pf.stream(eval_mongo_run_topk3)\n",
    "print(eval_mongo_run_topk3)"
   ]
  },
  {
   "cell_type": "code",
   "execution_count": null,
   "metadata": {},
   "outputs": [
    {
     "data": {
      "text/html": [
       "<div>\n",
       "<style scoped>\n",
       "    .dataframe tbody tr th:only-of-type {\n",
       "        vertical-align: middle;\n",
       "    }\n",
       "\n",
       "    .dataframe tbody tr th {\n",
       "        vertical-align: top;\n",
       "    }\n",
       "\n",
       "    .dataframe thead th {\n",
       "        text-align: right;\n",
       "    }\n",
       "</style>\n",
       "<table border=\"1\" class=\"dataframe\">\n",
       "  <thead>\n",
       "    <tr style=\"text-align: right;\">\n",
       "      <th></th>\n",
       "      <th>inputs.question</th>\n",
       "      <th>inputs.answer</th>\n",
       "      <th>inputs.line_number</th>\n",
       "      <th>inputs.context</th>\n",
       "      <th>inputs.log_params</th>\n",
       "      <th>inputs.reply</th>\n",
       "      <th>outputs.coherence</th>\n",
       "      <th>outputs.fluency</th>\n",
       "      <th>outputs.gpt_similarity</th>\n",
       "      <th>outputs.groundedness</th>\n",
       "      <th>outputs.relevance</th>\n",
       "    </tr>\n",
       "  </thead>\n",
       "  <tbody>\n",
       "    <tr>\n",
       "      <th>0</th>\n",
       "      <td>What is the quarterly revenue of Microsoft Clo...</td>\n",
       "      <td>$25 billion in quarterly revenue, up 24 percen...</td>\n",
       "      <td>0</td>\n",
       "      <td>[\"More than 8,500 Arc customers, more than dou...</td>\n",
       "      <td>{}</td>\n",
       "      <td>Over 8500 Arc customers. This is more than dou...</td>\n",
       "      <td>5</td>\n",
       "      <td>4</td>\n",
       "      <td>5</td>\n",
       "      <td>1</td>\n",
       "      <td>1</td>\n",
       "    </tr>\n",
       "    <tr>\n",
       "      <th>1</th>\n",
       "      <td>How many Azure Arc customers does Microsoft cu...</td>\n",
       "      <td>More than 8,500 Arc customers, more than doubl...</td>\n",
       "      <td>1</td>\n",
       "      <td>[\"More than 8,500 Arc customers, more than dou...</td>\n",
       "      <td>{}</td>\n",
       "      <td>Over 8500 Arc customers. This is more than dou...</td>\n",
       "      <td>5</td>\n",
       "      <td>3</td>\n",
       "      <td>5</td>\n",
       "      <td>5</td>\n",
       "      <td>5</td>\n",
       "    </tr>\n",
       "    <tr>\n",
       "      <th>2</th>\n",
       "      <td>Which companies run SAP on Azure in FY23Q1?</td>\n",
       "      <td>Companies like Chobani, Munich RE, Sodexo, Vol...</td>\n",
       "      <td>2</td>\n",
       "      <td>[\"More than 8,500 Arc customers, more than dou...</td>\n",
       "      <td>{}</td>\n",
       "      <td>Over 8500 Arc customers. This is more than dou...</td>\n",
       "      <td>4</td>\n",
       "      <td>5</td>\n",
       "      <td>5</td>\n",
       "      <td>3</td>\n",
       "      <td>1</td>\n",
       "    </tr>\n",
       "    <tr>\n",
       "      <th>3</th>\n",
       "      <td>What is the annual recurring revenue of GitHub...</td>\n",
       "      <td>GitHub is now at $1 billion in annual recurrin...</td>\n",
       "      <td>3</td>\n",
       "      <td>[\"More than 8,500 Arc customers, more than dou...</td>\n",
       "      <td>{}</td>\n",
       "      <td>Over 8500 Arc customers. This is more than dou...</td>\n",
       "      <td>4</td>\n",
       "      <td>5</td>\n",
       "      <td>5</td>\n",
       "      <td>1</td>\n",
       "      <td>1</td>\n",
       "    </tr>\n",
       "    <tr>\n",
       "      <th>4</th>\n",
       "      <td>How many monthly active users does Power BI ha...</td>\n",
       "      <td>Power BI is the market leader in business inte...</td>\n",
       "      <td>4</td>\n",
       "      <td>[\"More than 8,500 Arc customers, more than dou...</td>\n",
       "      <td>{}</td>\n",
       "      <td>Over 8500 Arc customers. This is more than dou...</td>\n",
       "      <td>5</td>\n",
       "      <td>5</td>\n",
       "      <td>5</td>\n",
       "      <td>3</td>\n",
       "      <td>1</td>\n",
       "    </tr>\n",
       "    <tr>\n",
       "      <th>5</th>\n",
       "      <td>What is the quarterly revenue of Microsoft Clo...</td>\n",
       "      <td>$27 billion in quarterly revenue, up 22 percen...</td>\n",
       "      <td>5</td>\n",
       "      <td>[\"More than 8,500 Arc customers, more than dou...</td>\n",
       "      <td>{}</td>\n",
       "      <td>Over 8500 Arc customers. This is more than dou...</td>\n",
       "      <td>5</td>\n",
       "      <td>5</td>\n",
       "      <td>5</td>\n",
       "      <td>1</td>\n",
       "      <td>1</td>\n",
       "    </tr>\n",
       "    <tr>\n",
       "      <th>6</th>\n",
       "      <td>How many Azure Arc customers does Microsoft cu...</td>\n",
       "      <td>More than 12,000 Arc customers, double the num...</td>\n",
       "      <td>6</td>\n",
       "      <td>[\"More than 8,500 Arc customers, more than dou...</td>\n",
       "      <td>{}</td>\n",
       "      <td>Over 8500 Arc customers. This is more than dou...</td>\n",
       "      <td>5</td>\n",
       "      <td>4</td>\n",
       "      <td>5</td>\n",
       "      <td>1</td>\n",
       "      <td>2</td>\n",
       "    </tr>\n",
       "    <tr>\n",
       "      <th>7</th>\n",
       "      <td>What are some examples of companies using Azur...</td>\n",
       "      <td>Over 200 customers, including KPMG and Al Jaze...</td>\n",
       "      <td>7</td>\n",
       "      <td>[\"More than 8,500 Arc customers, more than dou...</td>\n",
       "      <td>{}</td>\n",
       "      <td>Over 8500 Arc customers. This is more than dou...</td>\n",
       "      <td>5</td>\n",
       "      <td>5</td>\n",
       "      <td>5</td>\n",
       "      <td>3</td>\n",
       "      <td>1</td>\n",
       "    </tr>\n",
       "    <tr>\n",
       "      <th>8</th>\n",
       "      <td>How many developers are using GitHub Copilot a...</td>\n",
       "      <td>More than one million people have used GitHub ...</td>\n",
       "      <td>8</td>\n",
       "      <td>[\"More than 8,500 Arc customers, more than dou...</td>\n",
       "      <td>{}</td>\n",
       "      <td>Over 8500 Arc customers. This is more than dou...</td>\n",
       "      <td>4</td>\n",
       "      <td>4</td>\n",
       "      <td>5</td>\n",
       "      <td>1</td>\n",
       "      <td>1</td>\n",
       "    </tr>\n",
       "    <tr>\n",
       "      <th>9</th>\n",
       "      <td>What is the growth rate of Azure Machine Learn...</td>\n",
       "      <td>Azure ML revenue alone has increased more than...</td>\n",
       "      <td>9</td>\n",
       "      <td>[\"More than 8,500 Arc customers, more than dou...</td>\n",
       "      <td>{}</td>\n",
       "      <td>Over 8500 Arc customers. This is more than dou...</td>\n",
       "      <td>4</td>\n",
       "      <td>4</td>\n",
       "      <td>5</td>\n",
       "      <td>3</td>\n",
       "      <td>1</td>\n",
       "    </tr>\n",
       "  </tbody>\n",
       "</table>\n",
       "</div>"
      ],
      "text/plain": [
       "                                     inputs.question  \\\n",
       "0  What is the quarterly revenue of Microsoft Clo...   \n",
       "1  How many Azure Arc customers does Microsoft cu...   \n",
       "2        Which companies run SAP on Azure in FY23Q1?   \n",
       "3  What is the annual recurring revenue of GitHub...   \n",
       "4  How many monthly active users does Power BI ha...   \n",
       "5  What is the quarterly revenue of Microsoft Clo...   \n",
       "6  How many Azure Arc customers does Microsoft cu...   \n",
       "7  What are some examples of companies using Azur...   \n",
       "8  How many developers are using GitHub Copilot a...   \n",
       "9  What is the growth rate of Azure Machine Learn...   \n",
       "\n",
       "                                       inputs.answer  inputs.line_number  \\\n",
       "0  $25 billion in quarterly revenue, up 24 percen...                   0   \n",
       "1  More than 8,500 Arc customers, more than doubl...                   1   \n",
       "2  Companies like Chobani, Munich RE, Sodexo, Vol...                   2   \n",
       "3  GitHub is now at $1 billion in annual recurrin...                   3   \n",
       "4  Power BI is the market leader in business inte...                   4   \n",
       "5  $27 billion in quarterly revenue, up 22 percen...                   5   \n",
       "6  More than 12,000 Arc customers, double the num...                   6   \n",
       "7  Over 200 customers, including KPMG and Al Jaze...                   7   \n",
       "8  More than one million people have used GitHub ...                   8   \n",
       "9  Azure ML revenue alone has increased more than...                   9   \n",
       "\n",
       "                                      inputs.context inputs.log_params  \\\n",
       "0  [\"More than 8,500 Arc customers, more than dou...                {}   \n",
       "1  [\"More than 8,500 Arc customers, more than dou...                {}   \n",
       "2  [\"More than 8,500 Arc customers, more than dou...                {}   \n",
       "3  [\"More than 8,500 Arc customers, more than dou...                {}   \n",
       "4  [\"More than 8,500 Arc customers, more than dou...                {}   \n",
       "5  [\"More than 8,500 Arc customers, more than dou...                {}   \n",
       "6  [\"More than 8,500 Arc customers, more than dou...                {}   \n",
       "7  [\"More than 8,500 Arc customers, more than dou...                {}   \n",
       "8  [\"More than 8,500 Arc customers, more than dou...                {}   \n",
       "9  [\"More than 8,500 Arc customers, more than dou...                {}   \n",
       "\n",
       "                                        inputs.reply  outputs.coherence  \\\n",
       "0  Over 8500 Arc customers. This is more than dou...                  5   \n",
       "1  Over 8500 Arc customers. This is more than dou...                  5   \n",
       "2  Over 8500 Arc customers. This is more than dou...                  4   \n",
       "3  Over 8500 Arc customers. This is more than dou...                  4   \n",
       "4  Over 8500 Arc customers. This is more than dou...                  5   \n",
       "5  Over 8500 Arc customers. This is more than dou...                  5   \n",
       "6  Over 8500 Arc customers. This is more than dou...                  5   \n",
       "7  Over 8500 Arc customers. This is more than dou...                  5   \n",
       "8  Over 8500 Arc customers. This is more than dou...                  4   \n",
       "9  Over 8500 Arc customers. This is more than dou...                  4   \n",
       "\n",
       "   outputs.fluency  outputs.gpt_similarity  outputs.groundedness  \\\n",
       "0                4                       5                     1   \n",
       "1                3                       5                     5   \n",
       "2                5                       5                     3   \n",
       "3                5                       5                     1   \n",
       "4                5                       5                     3   \n",
       "5                5                       5                     1   \n",
       "6                4                       5                     1   \n",
       "7                5                       5                     3   \n",
       "8                4                       5                     1   \n",
       "9                4                       5                     3   \n",
       "\n",
       "   outputs.relevance  \n",
       "0                  1  \n",
       "1                  5  \n",
       "2                  1  \n",
       "3                  1  \n",
       "4                  1  \n",
       "5                  1  \n",
       "6                  2  \n",
       "7                  1  \n",
       "8                  1  \n",
       "9                  1  "
      ]
     },
     "execution_count": 8,
     "metadata": {},
     "output_type": "execute_result"
    }
   ],
   "source": [
    "pf.get_details(eval_mongo_run_topk3)"
   ]
  },
  {
   "cell_type": "code",
   "execution_count": null,
   "metadata": {},
   "outputs": [
    {
     "data": {
      "text/plain": [
       "{'relevance': 1.5,\n",
       " 'coherence': 4.6,\n",
       " 'fluency': 4.4,\n",
       " 'groundedness': 2.2,\n",
       " 'gpt_similarity': 5.0}"
      ]
     },
     "execution_count": 9,
     "metadata": {},
     "output_type": "execute_result"
    }
   ],
   "source": [
    "pf.get_metrics(eval_mongo_run_topk3)"
   ]
  },
  {
   "cell_type": "code",
   "execution_count": null,
   "metadata": {},
   "outputs": [
    {
     "name": "stdout",
     "output_type": "stream",
     "text": [
      "The HTML file is generated at 'C:\\\\Users\\\\hokhadiv\\\\AppData\\\\Local\\\\Temp\\\\pf-visualize-detail-jy96swvv.html'.\n",
      "Trying to view the result in a web browser...\n",
      "Successfully visualized from the web browser.\n"
     ]
    }
   ],
   "source": [
    "pf.visualize(eval_mongo_run_topk3)"
   ]
  },
  {
   "cell_type": "markdown",
   "metadata": {},
   "source": [
    "### Multiple runs \n",
    "Using config.yaml file"
   ]
  },
  {
   "cell_type": "code",
   "execution_count": null,
   "metadata": {},
   "outputs": [
    {
     "name": "stdout",
     "output_type": "stream",
     "text": [
      "{'Run1': {'maxTokens': 3500, 'searchType': 'vector', 'dbName': 'earning_calls', 'topK': 3}, 'Run2': {'maxTokens': 3500, 'searchType': 'vector', 'dbName': 'earning_calls', 'topK': 5}}\n"
     ]
    }
   ],
   "source": [
    "import yaml\n",
    "import promptflow\n",
    "\n",
    "pf = promptflow.PFClient()\n",
    "\n",
    "with open(\"./runs_config.yaml\", \"r\") as file:\n",
    "    runs_config = yaml.safe_load(file)\n",
    "\n",
    "# Access the contents of the config.yaml file\n",
    "print(runs_config)"
   ]
  },
  {
   "cell_type": "code",
   "execution_count": null,
   "metadata": {},
   "outputs": [],
   "source": [
    "# function to update param_config systematically \n",
    "import os \n",
    "def update_param_config(flow_path, config):\n",
    "    base_dir = os.path.dirname(flow_path)\n",
    "    param_config_path = os.path.join(base_dir, 'param_config.yaml')\n",
    "\n",
    "    with open(param_config_path, 'r') as file:\n",
    "        param_dict = yaml.safe_load(file)\n",
    "\n",
    "    param_dict.update(config)\n",
    "\n",
    "    with open(param_config_path, 'w') as file:\n",
    "        yaml.dump(param_dict, file)\n"
   ]
  },
  {
   "cell_type": "code",
   "execution_count": null,
   "metadata": {},
   "outputs": [],
   "source": [
    "from datetime import datetime\n",
    "\n",
    "run_time = datetime.now().strftime(\"%Y-%m-%d %H:%M:%S\")\n",
    "\n",
    "\n",
    "def run_dags(\n",
    "    flow_path=\"../../rag-cosmos-mongo/flow.dag.yaml\",\n",
    "    data_path=\"../../datasets/evalset.csv\",\n",
    "    eval_flow_path=\"../../evaluator/eval_aistudio_score/\",\n",
    "    config=None,\n",
    "):\n",
    "    column_mapping = {\n",
    "        \"chat_history\": \"${data.chat_history}\",\n",
    "        \"query\": \"${data.question}\",\n",
    "    }\n",
    "    update_param_config(flow_path, config)\n",
    "\n",
    "    copilot_run_from_config = pf.run(\n",
    "        flow=flow_path,\n",
    "        data=data_path,\n",
    "        column_mapping=column_mapping,\n",
    "        display_name=\"rag_mongo_run_from_config_\" + run_time,\n",
    "    )\n",
    "\n",
    "\n",
    "    # pf.stream(current_run)\n",
    "    # print(run_topk3)\n",
    "\n",
    "    eval_run_from_config = pf.run(\n",
    "        flow=eval_flow_path,\n",
    "        run=copilot_run_from_config,\n",
    "        data=data_path,\n",
    "        column_mapping={\n",
    "            \"question\": \"${data.question}\",\n",
    "            \"answer\": \"${data.answer}\",\n",
    "            \"reply\": \"${run.outputs.reply}\",\n",
    "            \"context\": \"${run.outputs.fetched_docs}\",\n",
    "            \"log_params\": \"${run.outputs.log_params}\",\n",
    "        },\n",
    "        display_name=\"eval_run_mongo_aistudio_scores_from_config_\" + run_time,\n",
    "    )\n",
    "    return copilot_run_from_config, eval_run_from_config"
   ]
  },
  {
   "cell_type": "code",
   "execution_count": null,
   "metadata": {},
   "outputs": [
    {
     "name": "stdout",
     "output_type": "stream",
     "text": [
      "{'maxTokens': 3500, 'searchType': 'vector', 'dbName': 'earning_calls', 'topK': 3}\n"
     ]
    },
    {
     "name": "stdout",
     "output_type": "stream",
     "text": [
      "{'maxTokens': 3500, 'searchType': 'vector', 'dbName': 'earning_calls', 'topK': 5}\n"
     ]
    },
    {
     "name": "stderr",
     "output_type": "stream",
     "text": [
      "[2024-03-15 00:27:52,883][promptflow._sdk._submitter.run_submitter][WARNING] - Run eval_aistudio_score_variant_0_20240315_001652_305210 failed when executing in executor.\n"
     ]
    }
   ],
   "source": [
    "i = 0\n",
    "run_logs = {}\n",
    "for run in runs_config:\n",
    "    i += 1\n",
    "    print(runs_config[run])\n",
    "    copilot_run_from_config, eval_run_from_config = run_dags(config=runs_config[run])\n",
    "    run_logs[i] = eval_run_from_config"
   ]
  },
  {
   "cell_type": "code",
   "execution_count": null,
   "metadata": {},
   "outputs": [
    {
     "name": "stdout",
     "output_type": "stream",
     "text": [
      "1\n",
      "The HTML file is generated at 'C:\\\\Users\\\\hokhadiv\\\\AppData\\\\Local\\\\Temp\\\\pf-visualize-detail-u850gjwx.html'.\n",
      "Trying to view the result in a web browser...\n",
      "Successfully visualized from the web browser.\n",
      "2\n"
     ]
    }
   ],
   "source": [
    "for run_id in run_logs:\n",
    "    print(run_id)\n",
    "    pf.visualize(run_logs[run_id])"
   ]
  },
  {
   "cell_type": "markdown",
   "metadata": {},
   "source": [
    "### Run different flow variants\n",
    "Now, lets evaluate same flow but on a node variant."
   ]
  },
  {
   "cell_type": "code",
   "execution_count": null,
   "metadata": {},
   "outputs": [],
   "source": [
    "from datetime import datetime\n",
    "\n",
    "run_time = datetime.now().strftime(\"%Y-%m-%d %H:%M:%S\")\n",
    "\n",
    "def run_dags(\n",
    "    flow_path=\"../../rag-cosmos-mongo/flow.dag.yaml\",\n",
    "    data_path=\"../../datasets/evalset.csv\",\n",
    "    eval_flow_path=\"../../evaluator/eval_aistudio_score/\",\n",
    "    variant=None,\n",
    "    config=None,\n",
    "):\n",
    "    column_mapping = {\n",
    "        \"chat_history\": \"${data.chat_history}\",\n",
    "        \"query\": \"${data.question}\",\n",
    "    }\n",
    "    update_param_config(flow_path, config)\n",
    "\n",
    "    copilot_run_from_config = pf.run(\n",
    "        flow=flow_path,\n",
    "        data=data_path,\n",
    "        column_mapping=column_mapping,\n",
    "        variant =variant,\n",
    "        display_name=\"rag_mongo_run_from_config_\" + run_time,\n",
    "    )\n",
    "\n",
    "    # pf.stream(current_run)\n",
    "    # print(run_topk3)\n",
    "\n",
    "    eval_run_from_config = pf.run(\n",
    "        flow=eval_flow_path,\n",
    "        run=copilot_run_from_config,\n",
    "        data=data_path,\n",
    "        column_mapping={\n",
    "            \"question\": \"${data.question}\",\n",
    "            \"answer\": \"${data.answer}\",\n",
    "            \"reply\": \"${run.outputs.reply}\",\n",
    "            \"context\": \"${run.outputs.fetched_docs}\",\n",
    "            \"log_params\": \"${run.outputs.log_params}\",\n",
    "        },\n",
    "        display_name=\"eval_run_mongo_aistudio_scores_from_config_\" + run_time,\n",
    "    )\n",
    "    return copilot_run_from_config, eval_run_from_config"
   ]
  },
  {
   "cell_type": "code",
   "execution_count": null,
   "metadata": {},
   "outputs": [],
   "source": [
    "# i = 0\n",
    "# run_logs = {}\n",
    "# for run in runs_config:\n",
    "#     i += 1\n",
    "#     print(runs_config[run])\n",
    "#     copilot_run_from_config, eval_run_from_config = run_dags(config=runs_config[run])\n",
    "#     run_logs[i] = eval_run_from_config"
   ]
  },
  {
   "cell_type": "code",
   "execution_count": null,
   "metadata": {},
   "outputs": [],
   "source": [
    "# for run_id in run_logs:\n",
    "#     print(run_id)\n",
    "#     pf.visualize(run_logs[run_id])"
   ]
  },
  {
   "cell_type": "code",
   "execution_count": null,
   "metadata": {},
   "outputs": [
    {
     "name": "stdout",
     "output_type": "stream",
     "text": [
      "{'maxTokens': 3500, 'searchType': 'vector', 'dbName': 'earning_calls', 'topK': 3}\n"
     ]
    },
    {
     "name": "stderr",
     "output_type": "stream",
     "text": [
      "[2024-03-15 05:20:30,226][promptflow._sdk._submitter.run_submitter][WARNING] - 1 out of 10 runs failed in batch run. Please check out C:/Users/hokhadiv/.promptflow/.runs/rag_cosmos_mongo_variant_1_20240315_002755_379275 for more details.\n"
     ]
    }
   ],
   "source": [
    "i = 0\n",
    "run_logs = {}\n",
    "for run in runs_config:\n",
    "    i += 1\n",
    "    print(runs_config[run])\n",
    "    copilot_run_from_config, eval_run_from_config = run_dags(variant= \"${DetermineReply.variant_1}\", config=runs_config[run])\n",
    "    run_logs[i] = eval_run_from_config"
   ]
  },
  {
   "cell_type": "code",
   "execution_count": null,
   "metadata": {},
   "outputs": [],
   "source": [
    "for run_id in run_logs:\n",
    "    print(run_id)\n",
    "    pf.visualize(run_logs[run_id])"
   ]
  }
 ],
 "metadata": {
  "kernelspec": {
   "display_name": "appliedaipf",
   "language": "python",
   "name": "python3"
  },
  "language_info": {
   "codemirror_mode": {
    "name": "ipython",
    "version": 3
   },
   "file_extension": ".py",
   "mimetype": "text/x-python",
   "name": "python",
   "nbconvert_exporter": "python",
   "pygments_lexer": "ipython3",
   "version": "3.9.18"
  }
 },
 "nbformat": 4,
 "nbformat_minor": 2
}
